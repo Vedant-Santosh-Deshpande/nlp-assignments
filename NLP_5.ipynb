{
  "nbformat": 4,
  "nbformat_minor": 0,
  "metadata": {
    "colab": {
      "provenance": [],
      "gpuType": "T4"
    },
    "kernelspec": {
      "name": "python3",
      "display_name": "Python 3"
    },
    "language_info": {
      "name": "python"
    },
    "accelerator": "GPU"
  },
  "cells": [
    {
      "cell_type": "code",
      "execution_count": null,
      "metadata": {
        "id": "CJbnwlkvlh-f"
      },
      "outputs": [],
      "source": [
        "import pandas as pd"
      ]
    },
    {
      "cell_type": "code",
      "source": [
        "# Define the Add-Delete table with word transformations\n",
        "morphology_data = [\n",
        "    {\"Base Word\": \"happy\", \"Add\": \"-ness\", \"Delete\": \"\", \"Resulting Word\": \"happiness\", \"Morpheme Type\": \"Derivational\"},\n",
        "    {\"Base Word\": \"create\", \"Add\": \"-ion\", \"Delete\": \"-e\", \"Resulting Word\": \"creation\", \"Morpheme Type\": \"Derivational\"},\n",
        "    {\"Base Word\": \"jump\", \"Add\": \"-ing\", \"Delete\": \"\", \"Resulting Word\": \"jumping\", \"Morpheme Type\": \"Inflectional\"},\n",
        "    {\"Base Word\": \"write\", \"Add\": \"-er\", \"Delete\": \"-e\", \"Resulting Word\": \"writer\", \"Morpheme Type\": \"Derivational\"},\n",
        "    {\"Base Word\": \"run\", \"Add\": \"-s\", \"Delete\": \"\", \"Resulting Word\": \"runs\", \"Morpheme Type\": \"Inflectional\"},\n",
        "    {\"Base Word\": \"possible\", \"Add\": \"im-\", \"Delete\": \"\", \"Resulting Word\": \"impossible\", \"Morpheme Type\": \"Derivational\"},\n",
        "    {\"Base Word\": \"do\", \"Add\": \"re-\", \"Delete\": \"\", \"Resulting Word\": \"redo\", \"Morpheme Type\": \"Derivational\"}\n",
        "]"
      ],
      "metadata": {
        "id": "mYH8FrNllvf_"
      },
      "execution_count": null,
      "outputs": []
    },
    {
      "cell_type": "code",
      "source": [
        "# Convert to Pandas DataFrame\n",
        "df = pd.DataFrame(morphology_data)\n"
      ],
      "metadata": {
        "id": "gKhF17Lclz9I"
      },
      "execution_count": null,
      "outputs": []
    },
    {
      "cell_type": "code",
      "source": [
        "# Display the Add-Delete Table\n",
        "print(\"Morphological Add-Delete Table:\")\n",
        "print(df)"
      ],
      "metadata": {
        "colab": {
          "base_uri": "https://localhost:8080/"
        },
        "id": "YoR03_wlmFlK",
        "outputId": "15f47915-4864-4ad9-a909-57c313268cc5"
      },
      "execution_count": null,
      "outputs": [
        {
          "output_type": "stream",
          "name": "stdout",
          "text": [
            "Morphological Add-Delete Table:\n",
            "  Base Word    Add Delete Resulting Word Morpheme Type\n",
            "0     happy  -ness             happiness  Derivational\n",
            "1    create   -ion     -e       creation  Derivational\n",
            "2      jump   -ing               jumping  Inflectional\n",
            "3     write    -er     -e         writer  Derivational\n",
            "4       run     -s                  runs  Inflectional\n",
            "5  possible    im-            impossible  Derivational\n",
            "6        do    re-                  redo  Derivational\n"
          ]
        }
      ]
    },
    {
      "cell_type": "code",
      "source": [
        "# Function to apply morphological transformations\n",
        "def apply_morphology(base_word, add, delete):\n",
        "    if delete:\n",
        "        base_word = base_word.replace(delete, \"\")\n",
        "    return add.replace(\"-\", \"\") + base_word if add.startswith(\"-\") else base_word + add.replace(\"-\", \"\")"
      ],
      "metadata": {
        "id": "YZ-jqdswnGw8"
      },
      "execution_count": null,
      "outputs": []
    },
    {
      "cell_type": "code",
      "source": [
        "# Testing the function\n",
        "test_word = \"happy\"\n",
        "modified_word = apply_morphology(test_word, \"-ness\", \"\")\n",
        "print(f\"\\nTransformed Word: {test_word} → {modified_word}\")"
      ],
      "metadata": {
        "colab": {
          "base_uri": "https://localhost:8080/"
        },
        "id": "u12pcSy_nJ-3",
        "outputId": "f8003ec5-b55b-4f03-8f33-7f4ab099dee5"
      },
      "execution_count": null,
      "outputs": [
        {
          "output_type": "stream",
          "name": "stdout",
          "text": [
            "\n",
            "Transformed Word: happy → nesshappy\n"
          ]
        }
      ]
    }
  ]
}