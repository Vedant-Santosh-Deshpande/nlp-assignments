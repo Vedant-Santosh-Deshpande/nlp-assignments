{
  "nbformat": 4,
  "nbformat_minor": 0,
  "metadata": {
    "colab": {
      "provenance": []
    },
    "kernelspec": {
      "name": "python3",
      "display_name": "Python 3"
    },
    "language_info": {
      "name": "python"
    }
  },
  "cells": [
    {
      "cell_type": "markdown",
      "source": [
        "**Perform text cleaning, perform lemmatization (any method), remove stop words (any method),\n",
        "label encoding. Create representations using TF-IDF. Save outputs**"
      ],
      "metadata": {
        "id": "emE5Jm_lb7MR"
      }
    },
    {
      "cell_type": "code",
      "source": [
        "# Install necessary libraries\n",
        "!pip install scikit-learn gensim nltk"
      ],
      "metadata": {
        "colab": {
          "base_uri": "https://localhost:8080/"
        },
        "id": "fuZyFz6Mb-XY",
        "outputId": "29ad5637-2a24-4426-cf9c-9a4abcf53288"
      },
      "execution_count": null,
      "outputs": [
        {
          "output_type": "stream",
          "name": "stdout",
          "text": [
            "Requirement already satisfied: scikit-learn in /usr/local/lib/python3.11/dist-packages (1.6.1)\n",
            "Requirement already satisfied: gensim in /usr/local/lib/python3.11/dist-packages (4.3.3)\n",
            "Requirement already satisfied: nltk in /usr/local/lib/python3.11/dist-packages (3.9.1)\n",
            "Requirement already satisfied: numpy>=1.19.5 in /usr/local/lib/python3.11/dist-packages (from scikit-learn) (1.26.4)\n",
            "Requirement already satisfied: scipy>=1.6.0 in /usr/local/lib/python3.11/dist-packages (from scikit-learn) (1.13.1)\n",
            "Requirement already satisfied: joblib>=1.2.0 in /usr/local/lib/python3.11/dist-packages (from scikit-learn) (1.4.2)\n",
            "Requirement already satisfied: threadpoolctl>=3.1.0 in /usr/local/lib/python3.11/dist-packages (from scikit-learn) (3.5.0)\n",
            "Requirement already satisfied: smart-open>=1.8.1 in /usr/local/lib/python3.11/dist-packages (from gensim) (7.1.0)\n",
            "Requirement already satisfied: click in /usr/local/lib/python3.11/dist-packages (from nltk) (8.1.8)\n",
            "Requirement already satisfied: regex>=2021.8.3 in /usr/local/lib/python3.11/dist-packages (from nltk) (2024.11.6)\n",
            "Requirement already satisfied: tqdm in /usr/local/lib/python3.11/dist-packages (from nltk) (4.67.1)\n",
            "Requirement already satisfied: wrapt in /usr/local/lib/python3.11/dist-packages (from smart-open>=1.8.1->gensim) (1.17.2)\n"
          ]
        }
      ]
    },
    {
      "cell_type": "code",
      "source": [
        "# Import required libraries\n",
        "import nltk\n",
        "import string\n",
        "import pandas as pd\n",
        "from sklearn.feature_extraction.text import TfidfVectorizer\n",
        "from sklearn.preprocessing import LabelEncoder\n",
        "from nltk.corpus import stopwords\n",
        "from nltk.stem import WordNetLemmatizer\n",
        "from sklearn.model_selection import train_test_split"
      ],
      "metadata": {
        "id": "fV_1CnkDcoQw"
      },
      "execution_count": null,
      "outputs": []
    },
    {
      "cell_type": "code",
      "source": [
        "# Download NLTK resources (stopwords and wordnet)\n",
        "nltk.download('stopwords')\n",
        "nltk.download('punkt')\n",
        "nltk.download('wordnet')"
      ],
      "metadata": {
        "colab": {
          "base_uri": "https://localhost:8080/"
        },
        "id": "25U8v94hcrBY",
        "outputId": "9a557f76-579f-422f-af3f-e5e5aa342534"
      },
      "execution_count": null,
      "outputs": [
        {
          "output_type": "stream",
          "name": "stderr",
          "text": [
            "[nltk_data] Downloading package stopwords to /root/nltk_data...\n",
            "[nltk_data]   Unzipping corpora/stopwords.zip.\n",
            "[nltk_data] Downloading package punkt to /root/nltk_data...\n",
            "[nltk_data]   Unzipping tokenizers/punkt.zip.\n",
            "[nltk_data] Downloading package wordnet to /root/nltk_data...\n"
          ]
        },
        {
          "output_type": "execute_result",
          "data": {
            "text/plain": [
              "True"
            ]
          },
          "metadata": {},
          "execution_count": 3
        }
      ]
    },
    {
      "cell_type": "code",
      "source": [
        "# Sample data (documents and their labels)\n",
        "documents = [\n",
        "    \"I love programming in Python!\",\n",
        "    \"Python is a great programming language.\",\n",
        "    \"I enjoy coding in Python every day.\",\n",
        "    \"Programming is fun and exciting.\",\n",
        "    \"I prefer Python over other programming languages.\"\n",
        "]\n",
        "labels = [\"positive\", \"positive\", \"positive\", \"neutral\", \"positive\"]\n"
      ],
      "metadata": {
        "id": "Tn1V6XxDdDP1"
      },
      "execution_count": null,
      "outputs": []
    },
    {
      "cell_type": "code",
      "source": [
        "\n",
        "# Step 1: Text Cleaning (remove punctuation and convert to lowercase)\n",
        "def clean_text(text):\n",
        "    \"\"\"\n",
        "    Function to clean the text by:\n",
        "    1. Converting it to lowercase\n",
        "    2. Removing punctuation\n",
        "    \"\"\"\n",
        "    text = text.lower()  # Convert text to lowercase\n",
        "    text = ''.join([char for char in text if char not in string.punctuation])  # Remove punctuation\n",
        "    return text\n",
        "\n",
        "# Apply the `clean_text` function to the documents\n",
        "documents_cleaned = [clean_text(doc) for doc in documents]\n",
        "\n",
        "# Output for Step 1: Cleaned Documents\n",
        "print(\"Step 1: Cleaned Text (Lowercased and Punctuation Removed)\")\n",
        "print(documents_cleaned)\n"
      ],
      "metadata": {
        "colab": {
          "base_uri": "https://localhost:8080/"
        },
        "id": "lySz5L3fdEh9",
        "outputId": "602d5ed5-525c-4b6c-c34a-ee45b52f65f8"
      },
      "execution_count": null,
      "outputs": [
        {
          "output_type": "stream",
          "name": "stdout",
          "text": [
            "Step 1: Cleaned Text (Lowercased and Punctuation Removed)\n",
            "['i love programming in python', 'python is a great programming language', 'i enjoy coding in python every day', 'programming is fun and exciting', 'i prefer python over other programming languages']\n"
          ]
        }
      ]
    },
    {
      "cell_type": "code",
      "source": [
        "# Step 2: Remove Stop Words\n",
        "stop_words = set(stopwords.words('english'))\n",
        "\n",
        "def remove_stop_words(text):\n",
        "    \"\"\"\n",
        "    Remove stopwords from the text.\n",
        "    \"\"\"\n",
        "    return ' '.join([word for word in text.split() if word not in stop_words])\n",
        "\n",
        "documents_no_stopwords = [remove_stop_words(doc) for doc in documents_cleaned]\n",
        "\n",
        "# Output for Step 2: Documents After Stop Word Removal\n",
        "print(\"\\nStep 2: Text After Stop Word Removal\")\n",
        "print(documents_no_stopwords)\n"
      ],
      "metadata": {
        "colab": {
          "base_uri": "https://localhost:8080/"
        },
        "id": "ve2Fsm0cdTsP",
        "outputId": "eefd7f06-662a-43d0-87ac-fd89c544a9e7"
      },
      "execution_count": null,
      "outputs": [
        {
          "output_type": "stream",
          "name": "stdout",
          "text": [
            "\n",
            "Step 2: Text After Stop Word Removal\n",
            "['love programming python', 'python great programming language', 'enjoy coding python every day', 'programming fun exciting', 'prefer python programming languages']\n"
          ]
        }
      ]
    },
    {
      "cell_type": "code",
      "source": [
        "# Step 3: Lemmatization (use WordNetLemmatizer)\n",
        "lemmatizer = WordNetLemmatizer()\n",
        "\n",
        "def lemmatize_text(text):\n",
        "    \"\"\"\n",
        "    Lemmatize the words in the text.\n",
        "    \"\"\"\n",
        "    return ' '.join([lemmatizer.lemmatize(word) for word in text.split()])\n",
        "\n",
        "documents_lemmatized = [lemmatize_text(doc) for doc in documents_no_stopwords]\n",
        "\n",
        "# Output for Step 3: Lemmatized Text\n",
        "print(\"\\nStep 3: Lemmatized Text\")\n",
        "print(documents_lemmatized)\n"
      ],
      "metadata": {
        "colab": {
          "base_uri": "https://localhost:8080/"
        },
        "id": "go8yYWFLdnDY",
        "outputId": "af0a7d88-c697-492c-f300-5143bac555ca"
      },
      "execution_count": null,
      "outputs": [
        {
          "output_type": "stream",
          "name": "stdout",
          "text": [
            "\n",
            "Step 3: Lemmatized Text\n",
            "['love programming python', 'python great programming language', 'enjoy coding python every day', 'programming fun exciting', 'prefer python programming language']\n"
          ]
        }
      ]
    },
    {
      "cell_type": "code",
      "source": [
        "# Step 4: Label Encoding (Convert labels to numeric values)\n",
        "label_encoder = LabelEncoder()\n",
        "labels_encoded = label_encoder.fit_transform(labels)\n",
        "\n",
        "# Output for Step 4: Encoded Labels\n",
        "print(\"\\nStep 4: Encoded Labels\")\n",
        "print(pd.DataFrame({'Original Labels': labels, 'Encoded Labels': labels_encoded}))\n"
      ],
      "metadata": {
        "colab": {
          "base_uri": "https://localhost:8080/"
        },
        "id": "ROX5DHSodp4R",
        "outputId": "473c1217-3a4a-4d40-f677-9d2c974b3682"
      },
      "execution_count": null,
      "outputs": [
        {
          "output_type": "stream",
          "name": "stdout",
          "text": [
            "\n",
            "Step 4: Encoded Labels\n",
            "  Original Labels  Encoded Labels\n",
            "0        positive               1\n",
            "1        positive               1\n",
            "2        positive               1\n",
            "3         neutral               0\n",
            "4        positive               1\n"
          ]
        }
      ]
    },
    {
      "cell_type": "code",
      "source": [
        "# Step 5: TF-IDF Representation\n",
        "vectorizer = TfidfVectorizer()\n",
        "tfidf_matrix = vectorizer.fit_transform(documents_lemmatized)\n",
        "\n",
        "# Output for Step 5: TF-IDF Matrix\n",
        "print(\"\\nStep 5: TF-IDF Matrix\")\n",
        "df_tfidf = pd.DataFrame(tfidf_matrix.toarray(), columns=vectorizer.get_feature_names_out())\n",
        "print(df_tfidf)\n"
      ],
      "metadata": {
        "colab": {
          "base_uri": "https://localhost:8080/"
        },
        "id": "m8ZqwapYdVpc",
        "outputId": "2ca8fee9-f444-4f1a-cfe4-e92e2ce9ce60"
      },
      "execution_count": null,
      "outputs": [
        {
          "output_type": "stream",
          "name": "stdout",
          "text": [
            "\n",
            "Step 5: TF-IDF Matrix\n",
            "    coding      day    enjoy    every  exciting     fun     great  language  \\\n",
            "0  0.00000  0.00000  0.00000  0.00000    0.0000  0.0000  0.000000  0.000000   \n",
            "1  0.00000  0.00000  0.00000  0.00000    0.0000  0.0000  0.661438  0.533644   \n",
            "2  0.48127  0.48127  0.48127  0.48127    0.0000  0.0000  0.000000  0.000000   \n",
            "3  0.00000  0.00000  0.00000  0.00000    0.6569  0.6569  0.000000  0.000000   \n",
            "4  0.00000  0.00000  0.00000  0.00000    0.0000  0.0000  0.000000  0.533644   \n",
            "\n",
            "      love    prefer  programming    python  \n",
            "0  0.78211  0.000000     0.440627  0.440627  \n",
            "1  0.00000  0.000000     0.372642  0.372642  \n",
            "2  0.00000  0.000000     0.000000  0.271139  \n",
            "3  0.00000  0.000000     0.370086  0.000000  \n",
            "4  0.00000  0.661438     0.372642  0.372642  \n"
          ]
        }
      ]
    },
    {
      "cell_type": "code",
      "source": [
        "# Save outputs to files\n",
        "\n",
        "# Save cleaned text and lemmatized text to CSV\n",
        "df_cleaned = pd.DataFrame({'Original': documents, 'Cleaned': documents_lemmatized})\n",
        "df_cleaned.to_csv('cleaned_text.csv', index=False)\n",
        "\n",
        "# Save the TF-IDF matrix as a CSV\n",
        "df_tfidf.to_csv('tfidf_matrix.csv', index=False)\n",
        "\n",
        "# Save label-encoded labels to CSV\n",
        "df_labels = pd.DataFrame({'Original Labels': labels, 'Encoded Labels': labels_encoded})\n",
        "df_labels.to_csv('encoded_labels.csv', index=False)\n",
        "\n",
        "# Optionally, download the files in Google Colab\n",
        "from google.colab import files\n",
        "files.download('cleaned_text.csv')\n",
        "files.download('tfidf_matrix.csv')\n",
        "files.download('encoded_labels.csv')\n"
      ],
      "metadata": {
        "colab": {
          "base_uri": "https://localhost:8080/",
          "height": 17
        },
        "id": "tD4xdPmOdRH_",
        "outputId": "691c2bdc-2989-4fb9-c5e6-6bd7e6deeb1f"
      },
      "execution_count": null,
      "outputs": [
        {
          "output_type": "display_data",
          "data": {
            "text/plain": [
              "<IPython.core.display.Javascript object>"
            ],
            "application/javascript": [
              "\n",
              "    async function download(id, filename, size) {\n",
              "      if (!google.colab.kernel.accessAllowed) {\n",
              "        return;\n",
              "      }\n",
              "      const div = document.createElement('div');\n",
              "      const label = document.createElement('label');\n",
              "      label.textContent = `Downloading \"${filename}\": `;\n",
              "      div.appendChild(label);\n",
              "      const progress = document.createElement('progress');\n",
              "      progress.max = size;\n",
              "      div.appendChild(progress);\n",
              "      document.body.appendChild(div);\n",
              "\n",
              "      const buffers = [];\n",
              "      let downloaded = 0;\n",
              "\n",
              "      const channel = await google.colab.kernel.comms.open(id);\n",
              "      // Send a message to notify the kernel that we're ready.\n",
              "      channel.send({})\n",
              "\n",
              "      for await (const message of channel.messages) {\n",
              "        // Send a message to notify the kernel that we're ready.\n",
              "        channel.send({})\n",
              "        if (message.buffers) {\n",
              "          for (const buffer of message.buffers) {\n",
              "            buffers.push(buffer);\n",
              "            downloaded += buffer.byteLength;\n",
              "            progress.value = downloaded;\n",
              "          }\n",
              "        }\n",
              "      }\n",
              "      const blob = new Blob(buffers, {type: 'application/binary'});\n",
              "      const a = document.createElement('a');\n",
              "      a.href = window.URL.createObjectURL(blob);\n",
              "      a.download = filename;\n",
              "      div.appendChild(a);\n",
              "      a.click();\n",
              "      div.remove();\n",
              "    }\n",
              "  "
            ]
          },
          "metadata": {}
        },
        {
          "output_type": "display_data",
          "data": {
            "text/plain": [
              "<IPython.core.display.Javascript object>"
            ],
            "application/javascript": [
              "download(\"download_f581e558-4fd0-40e4-93d3-82630d25cc3a\", \"cleaned_text.csv\", 354)"
            ]
          },
          "metadata": {}
        },
        {
          "output_type": "display_data",
          "data": {
            "text/plain": [
              "<IPython.core.display.Javascript object>"
            ],
            "application/javascript": [
              "\n",
              "    async function download(id, filename, size) {\n",
              "      if (!google.colab.kernel.accessAllowed) {\n",
              "        return;\n",
              "      }\n",
              "      const div = document.createElement('div');\n",
              "      const label = document.createElement('label');\n",
              "      label.textContent = `Downloading \"${filename}\": `;\n",
              "      div.appendChild(label);\n",
              "      const progress = document.createElement('progress');\n",
              "      progress.max = size;\n",
              "      div.appendChild(progress);\n",
              "      document.body.appendChild(div);\n",
              "\n",
              "      const buffers = [];\n",
              "      let downloaded = 0;\n",
              "\n",
              "      const channel = await google.colab.kernel.comms.open(id);\n",
              "      // Send a message to notify the kernel that we're ready.\n",
              "      channel.send({})\n",
              "\n",
              "      for await (const message of channel.messages) {\n",
              "        // Send a message to notify the kernel that we're ready.\n",
              "        channel.send({})\n",
              "        if (message.buffers) {\n",
              "          for (const buffer of message.buffers) {\n",
              "            buffers.push(buffer);\n",
              "            downloaded += buffer.byteLength;\n",
              "            progress.value = downloaded;\n",
              "          }\n",
              "        }\n",
              "      }\n",
              "      const blob = new Blob(buffers, {type: 'application/binary'});\n",
              "      const a = document.createElement('a');\n",
              "      a.href = window.URL.createObjectURL(blob);\n",
              "      a.download = filename;\n",
              "      div.appendChild(a);\n",
              "      a.click();\n",
              "      div.remove();\n",
              "    }\n",
              "  "
            ]
          },
          "metadata": {}
        },
        {
          "output_type": "display_data",
          "data": {
            "text/plain": [
              "<IPython.core.display.Javascript object>"
            ],
            "application/javascript": [
              "download(\"download_8cfb82c9-07cc-40a8-b42c-3a04cd732179\", \"tfidf_matrix.csv\", 606)"
            ]
          },
          "metadata": {}
        },
        {
          "output_type": "display_data",
          "data": {
            "text/plain": [
              "<IPython.core.display.Javascript object>"
            ],
            "application/javascript": [
              "\n",
              "    async function download(id, filename, size) {\n",
              "      if (!google.colab.kernel.accessAllowed) {\n",
              "        return;\n",
              "      }\n",
              "      const div = document.createElement('div');\n",
              "      const label = document.createElement('label');\n",
              "      label.textContent = `Downloading \"${filename}\": `;\n",
              "      div.appendChild(label);\n",
              "      const progress = document.createElement('progress');\n",
              "      progress.max = size;\n",
              "      div.appendChild(progress);\n",
              "      document.body.appendChild(div);\n",
              "\n",
              "      const buffers = [];\n",
              "      let downloaded = 0;\n",
              "\n",
              "      const channel = await google.colab.kernel.comms.open(id);\n",
              "      // Send a message to notify the kernel that we're ready.\n",
              "      channel.send({})\n",
              "\n",
              "      for await (const message of channel.messages) {\n",
              "        // Send a message to notify the kernel that we're ready.\n",
              "        channel.send({})\n",
              "        if (message.buffers) {\n",
              "          for (const buffer of message.buffers) {\n",
              "            buffers.push(buffer);\n",
              "            downloaded += buffer.byteLength;\n",
              "            progress.value = downloaded;\n",
              "          }\n",
              "        }\n",
              "      }\n",
              "      const blob = new Blob(buffers, {type: 'application/binary'});\n",
              "      const a = document.createElement('a');\n",
              "      a.href = window.URL.createObjectURL(blob);\n",
              "      a.download = filename;\n",
              "      div.appendChild(a);\n",
              "      a.click();\n",
              "      div.remove();\n",
              "    }\n",
              "  "
            ]
          },
          "metadata": {}
        },
        {
          "output_type": "display_data",
          "data": {
            "text/plain": [
              "<IPython.core.display.Javascript object>"
            ],
            "application/javascript": [
              "download(\"download_a8839d4e-370c-4f01-92fc-7df5f80e2f06\", \"encoded_labels.csv\", 85)"
            ]
          },
          "metadata": {}
        }
      ]
    }
  ]
}