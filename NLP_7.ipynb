{
  "nbformat": 4,
  "nbformat_minor": 0,
  "metadata": {
    "colab": {
      "provenance": []
    },
    "kernelspec": {
      "name": "python3",
      "display_name": "Python 3"
    },
    "language_info": {
      "name": "python"
    }
  },
  "cells": [
    {
      "cell_type": "code",
      "execution_count": null,
      "metadata": {
        "id": "gEdPWSD1hzfQ"
      },
      "outputs": [],
      "source": [
        "# Auto-complete Algorithm Using N-gram Model in Google Colab\n"
      ]
    },
    {
      "cell_type": "code",
      "source": [
        "import nltk\n",
        "from nltk.util import ngrams\n",
        "from collections import defaultdict, Counter\n",
        "import random"
      ],
      "metadata": {
        "id": "6t_K93OUh_5K"
      },
      "execution_count": null,
      "outputs": []
    },
    {
      "cell_type": "code",
      "source": [
        "# Install NLTK\n",
        "!pip install nltk\n",
        "nltk.download('punkt')\n",
        "nltk.download('punkt_tab') # Download the punkt_tab resource"
      ],
      "metadata": {
        "colab": {
          "base_uri": "https://localhost:8080/"
        },
        "id": "Rym66_kyiDTp",
        "outputId": "20084d16-b667-4a13-d543-1f4026118a7b"
      },
      "execution_count": null,
      "outputs": [
        {
          "output_type": "stream",
          "name": "stdout",
          "text": [
            "Requirement already satisfied: nltk in /usr/local/lib/python3.11/dist-packages (3.9.1)\n",
            "Requirement already satisfied: click in /usr/local/lib/python3.11/dist-packages (from nltk) (8.1.8)\n",
            "Requirement already satisfied: joblib in /usr/local/lib/python3.11/dist-packages (from nltk) (1.4.2)\n",
            "Requirement already satisfied: regex>=2021.8.3 in /usr/local/lib/python3.11/dist-packages (from nltk) (2024.11.6)\n",
            "Requirement already satisfied: tqdm in /usr/local/lib/python3.11/dist-packages (from nltk) (4.67.1)\n"
          ]
        },
        {
          "output_type": "stream",
          "name": "stderr",
          "text": [
            "[nltk_data] Downloading package punkt to /root/nltk_data...\n",
            "[nltk_data]   Package punkt is already up-to-date!\n",
            "[nltk_data] Downloading package punkt_tab to /root/nltk_data...\n",
            "[nltk_data]   Unzipping tokenizers/punkt_tab.zip.\n"
          ]
        },
        {
          "output_type": "execute_result",
          "data": {
            "text/plain": [
              "True"
            ]
          },
          "metadata": {},
          "execution_count": 6
        }
      ]
    },
    {
      "cell_type": "code",
      "source": [
        "# Sample text corpus (Replace this with your dataset)\n",
        "text_corpus = \"This is a sample text corpus used for N-gram based auto-complete algorithm. N-grams are widely used in NLP tasks like text prediction, translation, and speech recognition.\""
      ],
      "metadata": {
        "id": "6VaPZN5wiIOq"
      },
      "execution_count": null,
      "outputs": []
    },
    {
      "cell_type": "code",
      "source": [
        "# Tokenize text\n",
        "tokens = nltk.word_tokenize(text_corpus.lower())\n"
      ],
      "metadata": {
        "id": "2cP1yGvLiM7T"
      },
      "execution_count": null,
      "outputs": []
    },
    {
      "cell_type": "code",
      "source": [
        "# Generate N-grams (trigrams in this example)\n",
        "n = 3\n",
        "ngrams_list = list(ngrams(tokens, n))\n"
      ],
      "metadata": {
        "id": "h-t1PZgoiaUx"
      },
      "execution_count": null,
      "outputs": []
    },
    {
      "cell_type": "code",
      "source": [
        "# Build N-gram model\n",
        "model = defaultdict(Counter)\n",
        "for ngram in ngrams_list:\n",
        "    prefix, next_word = tuple(ngram[:-1]), ngram[-1]\n",
        "    model[prefix][next_word] += 1"
      ],
      "metadata": {
        "id": "QZmhZJ1BiezC"
      },
      "execution_count": null,
      "outputs": []
    },
    {
      "cell_type": "code",
      "source": [
        "# Function for auto-completion\n",
        "def autocomplete(prefix, n=3):\n",
        "    prefix = tuple(nltk.word_tokenize(prefix.lower()))\n",
        "    if prefix in model:\n",
        "        suggestions = model[prefix].most_common(n)\n",
        "        return [word for word, _ in suggestions]\n",
        "    else:\n",
        "        return [\"No suggestions available\"]"
      ],
      "metadata": {
        "id": "UkPkzjS0iiQn"
      },
      "execution_count": null,
      "outputs": []
    },
    {
      "cell_type": "code",
      "source": [
        "# Test the auto-complete function\n",
        "input_text = \"N-gram based\"\n",
        "suggestions = autocomplete(input_text)\n",
        "print(f\"Suggestions for '{input_text}':\", suggestions)\n"
      ],
      "metadata": {
        "colab": {
          "base_uri": "https://localhost:8080/"
        },
        "id": "tNyWxIGPilgG",
        "outputId": "b21613f6-fee6-4dea-b3ea-8f2dd66e2985"
      },
      "execution_count": null,
      "outputs": [
        {
          "output_type": "stream",
          "name": "stdout",
          "text": [
            "Suggestions for 'N-gram based': ['auto-complete']\n"
          ]
        }
      ]
    }
  ]
}